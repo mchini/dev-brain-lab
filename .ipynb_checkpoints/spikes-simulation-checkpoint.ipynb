{
 "cells": [
  {
   "cell_type": "code",
   "execution_count": 1,
   "id": "82a77528-22d4-43c9-8528-4a4b2e85bc96",
   "metadata": {},
   "outputs": [
    {
     "ename": "KeyboardInterrupt",
     "evalue": "",
     "output_type": "error",
     "traceback": [
      "\u001b[31m---------------------------------------------------------------------------\u001b[39m",
      "\u001b[31mKeyboardInterrupt\u001b[39m                         Traceback (most recent call last)",
      "\u001b[36mCell\u001b[39m\u001b[36m \u001b[39m\u001b[32mIn[1]\u001b[39m\u001b[32m, line 80\u001b[39m\n\u001b[32m     78\u001b[39m n_frames = spikes.shape[\u001b[32m1\u001b[39m] - window_bins\n\u001b[32m     79\u001b[39m ani = FuncAnimation(fig, update, frames=n_frames, interval=\u001b[32m50\u001b[39m, blit=\u001b[38;5;28;01mFalse\u001b[39;00m)\n\u001b[32m---> \u001b[39m\u001b[32m80\u001b[39m \u001b[43mani\u001b[49m\u001b[43m.\u001b[49m\u001b[43msave\u001b[49m\u001b[43m(\u001b[49m\u001b[33;43mf\u001b[39;49m\u001b[33;43m\"\u001b[39;49m\u001b[33;43mneural_activity_gradient_\u001b[39;49m\u001b[38;5;132;43;01m{\u001b[39;49;00m\u001b[43mn\u001b[49m\u001b[43m+\u001b[49m\u001b[32;43m1\u001b[39;49m\u001b[38;5;132;43;01m:\u001b[39;49;00m\u001b[33;43m02d\u001b[39;49m\u001b[38;5;132;43;01m}\u001b[39;49;00m\u001b[33;43m.gif\u001b[39;49m\u001b[33;43m\"\u001b[39;49m\u001b[43m,\u001b[49m\u001b[43m \u001b[49m\u001b[43mwriter\u001b[49m\u001b[43m=\u001b[49m\u001b[43mPillowWriter\u001b[49m\u001b[43m(\u001b[49m\u001b[43mfps\u001b[49m\u001b[43m=\u001b[49m\u001b[32;43m10\u001b[39;49m\u001b[43m)\u001b[49m\u001b[43m)\u001b[49m\n\u001b[32m     81\u001b[39m plt.close(fig)\n\u001b[32m     82\u001b[39m \u001b[38;5;28mprint\u001b[39m(\u001b[33mf\u001b[39m\u001b[33m\"\u001b[39m\u001b[33mSaved GIF \u001b[39m\u001b[38;5;132;01m{\u001b[39;00mn+\u001b[32m1\u001b[39m\u001b[38;5;132;01m}\u001b[39;00m\u001b[33m/\u001b[39m\u001b[38;5;132;01m{\u001b[39;00mn_gif\u001b[38;5;132;01m}\u001b[39;00m\u001b[33m\"\u001b[39m)\n",
      "\u001b[36mFile \u001b[39m\u001b[32m~\\AppData\\Local\\miniconda3\\Lib\\site-packages\\matplotlib\\animation.py:1098\u001b[39m, in \u001b[36mAnimation.save\u001b[39m\u001b[34m(self, filename, writer, fps, dpi, codec, bitrate, extra_args, metadata, extra_anim, savefig_kwargs, progress_callback)\u001b[39m\n\u001b[32m   1093\u001b[39m     \u001b[38;5;28;01mreturn\u001b[39;00m a * np.array([r, g, b]) + \u001b[32m1\u001b[39m - a\n\u001b[32m   1095\u001b[39m \u001b[38;5;66;03m# canvas._is_saving = True makes the draw_event animation-starting\u001b[39;00m\n\u001b[32m   1096\u001b[39m \u001b[38;5;66;03m# callback a no-op; canvas.manager = None prevents resizing the GUI\u001b[39;00m\n\u001b[32m   1097\u001b[39m \u001b[38;5;66;03m# widget (both are likewise done in savefig()).\u001b[39;00m\n\u001b[32m-> \u001b[39m\u001b[32m1098\u001b[39m \u001b[43m\u001b[49m\u001b[38;5;28;43;01mwith\u001b[39;49;00m\u001b[43m \u001b[49m\u001b[43m(\u001b[49m\u001b[43mwriter\u001b[49m\u001b[43m.\u001b[49m\u001b[43msaving\u001b[49m\u001b[43m(\u001b[49m\u001b[38;5;28;43mself\u001b[39;49m\u001b[43m.\u001b[49m\u001b[43m_fig\u001b[49m\u001b[43m,\u001b[49m\u001b[43m \u001b[49m\u001b[43mfilename\u001b[49m\u001b[43m,\u001b[49m\u001b[43m \u001b[49m\u001b[43mdpi\u001b[49m\u001b[43m)\u001b[49m\u001b[43m,\u001b[49m\n\u001b[32m   1099\u001b[39m \u001b[43m      \u001b[49m\u001b[43mcbook\u001b[49m\u001b[43m.\u001b[49m\u001b[43m_setattr_cm\u001b[49m\u001b[43m(\u001b[49m\u001b[38;5;28;43mself\u001b[39;49m\u001b[43m.\u001b[49m\u001b[43m_fig\u001b[49m\u001b[43m.\u001b[49m\u001b[43mcanvas\u001b[49m\u001b[43m,\u001b[49m\u001b[43m \u001b[49m\u001b[43m_is_saving\u001b[49m\u001b[43m=\u001b[49m\u001b[38;5;28;43;01mTrue\u001b[39;49;00m\u001b[43m,\u001b[49m\u001b[43m \u001b[49m\u001b[43mmanager\u001b[49m\u001b[43m=\u001b[49m\u001b[38;5;28;43;01mNone\u001b[39;49;00m\u001b[43m)\u001b[49m\u001b[43m)\u001b[49m\u001b[43m:\u001b[49m\n\u001b[32m   1100\u001b[39m \u001b[43m    \u001b[49m\u001b[38;5;28;43;01mif\u001b[39;49;00m\u001b[43m \u001b[49m\u001b[38;5;129;43;01mnot\u001b[39;49;00m\u001b[43m \u001b[49m\u001b[43mwriter\u001b[49m\u001b[43m.\u001b[49m\u001b[43m_supports_transparency\u001b[49m\u001b[43m(\u001b[49m\u001b[43m)\u001b[49m\u001b[43m:\u001b[49m\n\u001b[32m   1101\u001b[39m \u001b[43m        \u001b[49m\u001b[43mfacecolor\u001b[49m\u001b[43m \u001b[49m\u001b[43m=\u001b[49m\u001b[43m \u001b[49m\u001b[43msavefig_kwargs\u001b[49m\u001b[43m.\u001b[49m\u001b[43mget\u001b[49m\u001b[43m(\u001b[49m\u001b[33;43m'\u001b[39;49m\u001b[33;43mfacecolor\u001b[39;49m\u001b[33;43m'\u001b[39;49m\u001b[43m,\u001b[49m\n\u001b[32m   1102\u001b[39m \u001b[43m                                       \u001b[49m\u001b[43mmpl\u001b[49m\u001b[43m.\u001b[49m\u001b[43mrcParams\u001b[49m\u001b[43m[\u001b[49m\u001b[33;43m'\u001b[39;49m\u001b[33;43msavefig.facecolor\u001b[39;49m\u001b[33;43m'\u001b[39;49m\u001b[43m]\u001b[49m\u001b[43m)\u001b[49m\n",
      "\u001b[36mFile \u001b[39m\u001b[32m~\\AppData\\Local\\miniconda3\\Lib\\contextlib.py:144\u001b[39m, in \u001b[36m_GeneratorContextManager.__exit__\u001b[39m\u001b[34m(self, typ, value, traceback)\u001b[39m\n\u001b[32m    142\u001b[39m \u001b[38;5;28;01mif\u001b[39;00m typ \u001b[38;5;129;01mis\u001b[39;00m \u001b[38;5;28;01mNone\u001b[39;00m:\n\u001b[32m    143\u001b[39m     \u001b[38;5;28;01mtry\u001b[39;00m:\n\u001b[32m--> \u001b[39m\u001b[32m144\u001b[39m         \u001b[38;5;28;43mnext\u001b[39;49m\u001b[43m(\u001b[49m\u001b[38;5;28;43mself\u001b[39;49m\u001b[43m.\u001b[49m\u001b[43mgen\u001b[49m\u001b[43m)\u001b[49m\n\u001b[32m    145\u001b[39m     \u001b[38;5;28;01mexcept\u001b[39;00m \u001b[38;5;167;01mStopIteration\u001b[39;00m:\n\u001b[32m    146\u001b[39m         \u001b[38;5;28;01mreturn\u001b[39;00m \u001b[38;5;28;01mFalse\u001b[39;00m\n",
      "\u001b[36mFile \u001b[39m\u001b[32m~\\AppData\\Local\\miniconda3\\Lib\\site-packages\\matplotlib\\animation.py:226\u001b[39m, in \u001b[36mAbstractMovieWriter.saving\u001b[39m\u001b[34m(self, fig, outfile, dpi, *args, **kwargs)\u001b[39m\n\u001b[32m    224\u001b[39m     \u001b[38;5;28;01myield\u001b[39;00m \u001b[38;5;28mself\u001b[39m\n\u001b[32m    225\u001b[39m \u001b[38;5;28;01mfinally\u001b[39;00m:\n\u001b[32m--> \u001b[39m\u001b[32m226\u001b[39m     \u001b[38;5;28;43mself\u001b[39;49m\u001b[43m.\u001b[49m\u001b[43mfinish\u001b[49m\u001b[43m(\u001b[49m\u001b[43m)\u001b[49m\n",
      "\u001b[36mFile \u001b[39m\u001b[32m~\\AppData\\Local\\miniconda3\\Lib\\site-packages\\matplotlib\\animation.py:506\u001b[39m, in \u001b[36mPillowWriter.finish\u001b[39m\u001b[34m(self)\u001b[39m\n\u001b[32m    505\u001b[39m \u001b[38;5;28;01mdef\u001b[39;00m \u001b[34mfinish\u001b[39m(\u001b[38;5;28mself\u001b[39m):\n\u001b[32m--> \u001b[39m\u001b[32m506\u001b[39m     \u001b[38;5;28;43mself\u001b[39;49m\u001b[43m.\u001b[49m\u001b[43m_frames\u001b[49m\u001b[43m[\u001b[49m\u001b[32;43m0\u001b[39;49m\u001b[43m]\u001b[49m\u001b[43m.\u001b[49m\u001b[43msave\u001b[49m\u001b[43m(\u001b[49m\n\u001b[32m    507\u001b[39m \u001b[43m        \u001b[49m\u001b[38;5;28;43mself\u001b[39;49m\u001b[43m.\u001b[49m\u001b[43moutfile\u001b[49m\u001b[43m,\u001b[49m\u001b[43m \u001b[49m\u001b[43msave_all\u001b[49m\u001b[43m=\u001b[49m\u001b[38;5;28;43;01mTrue\u001b[39;49;00m\u001b[43m,\u001b[49m\u001b[43m \u001b[49m\u001b[43mappend_images\u001b[49m\u001b[43m=\u001b[49m\u001b[38;5;28;43mself\u001b[39;49m\u001b[43m.\u001b[49m\u001b[43m_frames\u001b[49m\u001b[43m[\u001b[49m\u001b[32;43m1\u001b[39;49m\u001b[43m:\u001b[49m\u001b[43m]\u001b[49m\u001b[43m,\u001b[49m\n\u001b[32m    508\u001b[39m \u001b[43m        \u001b[49m\u001b[43mduration\u001b[49m\u001b[43m=\u001b[49m\u001b[38;5;28;43mint\u001b[39;49m\u001b[43m(\u001b[49m\u001b[32;43m1000\u001b[39;49m\u001b[43m \u001b[49m\u001b[43m/\u001b[49m\u001b[43m \u001b[49m\u001b[38;5;28;43mself\u001b[39;49m\u001b[43m.\u001b[49m\u001b[43mfps\u001b[49m\u001b[43m)\u001b[49m\u001b[43m,\u001b[49m\u001b[43m \u001b[49m\u001b[43mloop\u001b[49m\u001b[43m=\u001b[49m\u001b[32;43m0\u001b[39;49m\u001b[43m)\u001b[49m\n",
      "\u001b[36mFile \u001b[39m\u001b[32m~\\AppData\\Local\\miniconda3\\Lib\\site-packages\\PIL\\Image.py:2581\u001b[39m, in \u001b[36mImage.save\u001b[39m\u001b[34m(self, fp, format, **params)\u001b[39m\n\u001b[32m   2578\u001b[39m     fp = cast(IO[\u001b[38;5;28mbytes\u001b[39m], fp)\n\u001b[32m   2580\u001b[39m \u001b[38;5;28;01mtry\u001b[39;00m:\n\u001b[32m-> \u001b[39m\u001b[32m2581\u001b[39m     \u001b[43msave_handler\u001b[49m\u001b[43m(\u001b[49m\u001b[38;5;28;43mself\u001b[39;49m\u001b[43m,\u001b[49m\u001b[43m \u001b[49m\u001b[43mfp\u001b[49m\u001b[43m,\u001b[49m\u001b[43m \u001b[49m\u001b[43mfilename\u001b[49m\u001b[43m)\u001b[49m\n\u001b[32m   2582\u001b[39m \u001b[38;5;28;01mexcept\u001b[39;00m \u001b[38;5;167;01mException\u001b[39;00m:\n\u001b[32m   2583\u001b[39m     \u001b[38;5;28;01mif\u001b[39;00m open_fp:\n",
      "\u001b[36mFile \u001b[39m\u001b[32m~\\AppData\\Local\\miniconda3\\Lib\\site-packages\\PIL\\GifImagePlugin.py:784\u001b[39m, in \u001b[36m_save_all\u001b[39m\u001b[34m(im, fp, filename)\u001b[39m\n\u001b[32m    783\u001b[39m \u001b[38;5;28;01mdef\u001b[39;00m \u001b[34m_save_all\u001b[39m(im: Image.Image, fp: IO[\u001b[38;5;28mbytes\u001b[39m], filename: \u001b[38;5;28mstr\u001b[39m | \u001b[38;5;28mbytes\u001b[39m) -> \u001b[38;5;28;01mNone\u001b[39;00m:\n\u001b[32m--> \u001b[39m\u001b[32m784\u001b[39m     \u001b[43m_save\u001b[49m\u001b[43m(\u001b[49m\u001b[43mim\u001b[49m\u001b[43m,\u001b[49m\u001b[43m \u001b[49m\u001b[43mfp\u001b[49m\u001b[43m,\u001b[49m\u001b[43m \u001b[49m\u001b[43mfilename\u001b[49m\u001b[43m,\u001b[49m\u001b[43m \u001b[49m\u001b[43msave_all\u001b[49m\u001b[43m=\u001b[49m\u001b[38;5;28;43;01mTrue\u001b[39;49;00m\u001b[43m)\u001b[49m\n",
      "\u001b[36mFile \u001b[39m\u001b[32m~\\AppData\\Local\\miniconda3\\Lib\\site-packages\\PIL\\GifImagePlugin.py:797\u001b[39m, in \u001b[36m_save\u001b[39m\u001b[34m(im, fp, filename, save_all)\u001b[39m\n\u001b[32m    794\u001b[39m     palette = \u001b[38;5;28;01mNone\u001b[39;00m\n\u001b[32m    795\u001b[39m     im.encoderinfo.setdefault(\u001b[33m\"\u001b[39m\u001b[33moptimize\u001b[39m\u001b[33m\"\u001b[39m, \u001b[38;5;28;01mTrue\u001b[39;00m)\n\u001b[32m--> \u001b[39m\u001b[32m797\u001b[39m \u001b[38;5;28;01mif\u001b[39;00m \u001b[38;5;129;01mnot\u001b[39;00m save_all \u001b[38;5;129;01mor\u001b[39;00m \u001b[38;5;129;01mnot\u001b[39;00m \u001b[43m_write_multiple_frames\u001b[49m\u001b[43m(\u001b[49m\u001b[43mim\u001b[49m\u001b[43m,\u001b[49m\u001b[43m \u001b[49m\u001b[43mfp\u001b[49m\u001b[43m,\u001b[49m\u001b[43m \u001b[49m\u001b[43mpalette\u001b[49m\u001b[43m)\u001b[49m:\n\u001b[32m    798\u001b[39m     _write_single_frame(im, fp, palette)\n\u001b[32m    800\u001b[39m fp.write(\u001b[33mb\u001b[39m\u001b[33m\"\u001b[39m\u001b[33m;\u001b[39m\u001b[33m\"\u001b[39m)  \u001b[38;5;66;03m# end of file\u001b[39;00m\n",
      "\u001b[36mFile \u001b[39m\u001b[32m~\\AppData\\Local\\miniconda3\\Lib\\site-packages\\PIL\\GifImagePlugin.py:722\u001b[39m, in \u001b[36m_write_multiple_frames\u001b[39m\u001b[34m(im, fp, palette)\u001b[39m\n\u001b[32m    719\u001b[39m         \u001b[38;5;28;01mpass\u001b[39;00m\n\u001b[32m    720\u001b[39m \u001b[38;5;28;01mif\u001b[39;00m \u001b[33m\"\u001b[39m\u001b[33mtransparency\u001b[39m\u001b[33m\"\u001b[39m \u001b[38;5;129;01min\u001b[39;00m encoderinfo:\n\u001b[32m    721\u001b[39m     \u001b[38;5;66;03m# When the delta is zero, fill the image with transparency\u001b[39;00m\n\u001b[32m--> \u001b[39m\u001b[32m722\u001b[39m     diff_frame = \u001b[43mim_frame\u001b[49m\u001b[43m.\u001b[49m\u001b[43mcopy\u001b[49m\u001b[43m(\u001b[49m\u001b[43m)\u001b[49m\n\u001b[32m    723\u001b[39m     fill = Image.new(\u001b[33m\"\u001b[39m\u001b[33mP\u001b[39m\u001b[33m\"\u001b[39m, delta.size, encoderinfo[\u001b[33m\"\u001b[39m\u001b[33mtransparency\u001b[39m\u001b[33m\"\u001b[39m])\n\u001b[32m    724\u001b[39m     \u001b[38;5;28;01mif\u001b[39;00m delta.mode == \u001b[33m\"\u001b[39m\u001b[33mRGBA\u001b[39m\u001b[33m\"\u001b[39m:\n",
      "\u001b[36mFile \u001b[39m\u001b[32m~\\AppData\\Local\\miniconda3\\Lib\\site-packages\\PIL\\Image.py:1272\u001b[39m, in \u001b[36mImage.copy\u001b[39m\u001b[34m(self)\u001b[39m\n\u001b[32m   1264\u001b[39m \u001b[38;5;250m\u001b[39m\u001b[33;03m\"\"\"\u001b[39;00m\n\u001b[32m   1265\u001b[39m \u001b[33;03mCopies this image. Use this method if you wish to paste things\u001b[39;00m\n\u001b[32m   1266\u001b[39m \u001b[33;03minto an image, but still retain the original.\u001b[39;00m\n\u001b[32m   (...)\u001b[39m\u001b[32m   1269\u001b[39m \u001b[33;03m:returns: An :py:class:`~PIL.Image.Image` object.\u001b[39;00m\n\u001b[32m   1270\u001b[39m \u001b[33;03m\"\"\"\u001b[39;00m\n\u001b[32m   1271\u001b[39m \u001b[38;5;28mself\u001b[39m.load()\n\u001b[32m-> \u001b[39m\u001b[32m1272\u001b[39m \u001b[38;5;28;01mreturn\u001b[39;00m \u001b[38;5;28mself\u001b[39m._new(\u001b[38;5;28;43mself\u001b[39;49m\u001b[43m.\u001b[49m\u001b[43mim\u001b[49m\u001b[43m.\u001b[49m\u001b[43mcopy\u001b[49m\u001b[43m(\u001b[49m\u001b[43m)\u001b[49m)\n",
      "\u001b[31mKeyboardInterrupt\u001b[39m: "
     ]
    },
    {
     "data": {
      "image/png": "[encoded data removed]",
      "text/plain": [
       "<Figure size 1000x600 with 1 Axes>"
      ]
     },
     "metadata": {},
     "output_type": "display_data"
    }
   ],
   "source": [
    "import numpy as np\n",
    "import matplotlib.pyplot as plt\n",
    "from matplotlib.animation import FuncAnimation, PillowWriter\n",
    "from matplotlib.colors import to_rgb\n",
    "\n",
    "# --- Parametri fissi ---\n",
    "n_gif = 20\n",
    "n_neurons = 500\n",
    "duration_s = 30\n",
    "bin_size_s = 0.1\n",
    "n_bins = int(duration_s / bin_size_s)\n",
    "window_s = 5\n",
    "window_bins = int(window_s / bin_size_s)\n",
    "step_bins = 1\n",
    "\n",
    "log_median = np.log(0.001)\n",
    "sigma = 0.6\n",
    "p_stay_quiet = 0.95\n",
    "p_stay_burst = 0.95\n",
    "burst_rate_factor = 50\n",
    "p_follow = 0.95\n",
    "\n",
    "color_bottom = np.array(to_rgb(\"white\"))\n",
    "color_top = np.array(to_rgb(\"#666666\"))  # grigio scuro\n",
    "\n",
    "for n in range(n_gif):\n",
    "    # --- Simulazione nuova per ogni GIF ---\n",
    "    firing_rates = np.random.lognormal(mean=log_median, sigma=sigma, size=n_neurons)\n",
    "    burst_states = np.zeros(n_bins, dtype=np.uint8)\n",
    "    state = 0\n",
    "    for t in range(n_bins):\n",
    "        if state == 0 and np.random.rand() > p_stay_quiet:\n",
    "            state = 1\n",
    "        elif state == 1 and np.random.rand() > p_stay_burst:\n",
    "            state = 0\n",
    "        burst_states[t] = state\n",
    "\n",
    "    neuronal_burst = np.zeros((n_neurons, n_bins), dtype=np.uint8)\n",
    "    for i in range(n_neurons):\n",
    "        follow = np.random.rand(n_bins) < p_follow\n",
    "        neuronal_burst[i] = np.where(follow, burst_states, 1 - burst_states)\n",
    "\n",
    "    spikes = np.zeros((n_neurons, n_bins), dtype=np.uint8)\n",
    "    for i, fr in enumerate(firing_rates):\n",
    "        for t in range(n_bins):\n",
    "            state = neuronal_burst[i, t]\n",
    "            rate = fr if state == 0 else fr * burst_rate_factor\n",
    "            p_spike = rate * bin_size_s\n",
    "            spikes[i, t] = np.random.rand() < p_spike\n",
    "\n",
    "    neuron_ids, spike_bins = np.where(spikes)\n",
    "\n",
    "    # --- Gradient colore neuroni (bianco->grigio) ---\n",
    "    gradient = np.linspace(0, 1, n_neurons)[:, None]\n",
    "    neuron_colors = color_top * (1 - gradient) + color_bottom * gradient\n",
    "\n",
    "    fig, ax = plt.subplots(figsize=(10, 6))\n",
    "    fig.patch.set_facecolor('black')\n",
    "    ax.set_facecolor('black')\n",
    "\n",
    "    def update(frame):\n",
    "        ax.clear()\n",
    "        fig.patch.set_facecolor('black')\n",
    "        ax.set_facecolor('black')\n",
    "        start_bin = frame\n",
    "        end_bin = start_bin + window_bins\n",
    "        mask = (spike_bins >= start_bin) & (spike_bins < end_bin)\n",
    "        these_bins = spike_bins[mask] - start_bin\n",
    "        these_neurons = neuron_ids[mask]\n",
    "        if len(these_neurons) > 0:\n",
    "            ax.scatter(these_bins * bin_size_s, these_neurons,\n",
    "                       s=30, c=neuron_colors[these_neurons], marker='o', alpha=1, linewidths=0)\n",
    "        ax.set_xlim(0, window_s)\n",
    "        ax.set_ylim(-1, n_neurons)\n",
    "        ax.axis('off')\n",
    "        plt.tight_layout(pad=0)\n",
    "\n",
    "    n_frames = spikes.shape[1] - window_bins\n",
    "    ani = FuncAnimation(fig, update, frames=n_frames, interval=50, blit=False)\n",
    "    ani.save(f\"neural_activity_gradient_{n+1:02d}.gif\", writer=PillowWriter(fps=10))\n",
    "    plt.close(fig)\n",
    "    print(f\"Saved GIF {n+1}/{n_gif}\")\n",
    "\n",
    "print(\"Fatto!\")\n"
   ]
  }
 ],
 "metadata": {
  "kernelspec": {
   "display_name": "Python 3 (ipykernel)",
   "language": "python",
   "name": "python3"
  },
  "language_info": {
   "codemirror_mode": {
    "name": "ipython",
    "version": 3
   },
   "file_extension": ".py",
   "mimetype": "text/x-python",
   "name": "python",
   "nbconvert_exporter": "python",
   "pygments_lexer": "ipython3",
   "version": "3.12.9"
  }
 },
 "nbformat": 4,
 "nbformat_minor": 5
}
